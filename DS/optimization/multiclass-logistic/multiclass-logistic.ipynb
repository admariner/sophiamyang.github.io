{
 "cells": [
  {
   "cell_type": "markdown",
   "id": "049b25a7",
   "metadata": {},
   "source": [
    "# Multiclass logistic regression from scratch\n",
    "*Math and gradient decent implementation in Python*\n",
    "\n",
    "Video: https://youtu.be/wY3PJGZEyY4\n",
    "\n",
    "Multiclass logistic regression is also called multinomial logistic regression and softmax regression. It is used when we want to predict more than 2 classes. A lot of people use multiclass logistic regression all the time, but don't really know how it works. So, I am going to walk you through how the math works and implement it using gradient descent from scratch in Python. \n",
    "\n",
    "Disclaimer: there are various notations on this topic. I am using the notation that I think is easy to understand and visualize. You may find other notations in other places such as matrices and vectors being transposed.\n",
    "\n",
    "## Problem statement \n",
    "Let's assume we have N people/observations, each person has M features, and they belong to C classes. We are given: \n",
    "- A matrix $X$ is $\\mathbb{R}^{N\\times M}$. $X_{ij}$ represents person i with feature j.\n",
    "- A vector $Y$ is $\\mathbb{R}^{N}$. $Y_{i}$ represents person i belonging to class k.\n",
    "\n",
    "We do not know:\n",
    "- The weight matrix $W$ is $\\mathbb{R}^{M\\times C}$.$W_{jk}$ represents the weights for feature j and class k.\n",
    "\n",
    "We want to figure out $W$ and use $W$ to predict the class membership of any given observation X. \n",
    "\n",
    "## Multiclass logistic regression workflow\n",
    "If we know $X$ and $W$ (let's say we give $W$ initial values of all 0s for example), Figure 1 shows the workflow of multiclass logistic regression forward path. \n",
    "- First, we calculate the product of $X$ and $W$, here we let $Z = -XW$. \n",
    "    - Sometimes people don't include a negative sign here. It doesn't matter if there is a negative sign here or not. \n",
    "    - Sometimes we would also add a bias term. For simplicity, let's only look at the weights in this article.\n",
    "- Second, we take the softmax for each row $Z_{i}$: $P_{i} = $softmax$(Z_{i}) = \\frac{exp(Z_{i})}{\\sum_{k=0}^{C} exp(Z_{ik})}$.Each row of $Z_{i}$ should be the product of each row of $X$ (i.e., $X_{i}$) and the entire matrix of $W$. Now each row of $P$ should add up to 1.\n",
    "- Third, we take the argmax for each row and find the class with the highest probability.\n",
    "\n",
    "\n",
    "![](f1.png)\n",
    "*Figure 1. Multiclass logistic regression forward path.*\n",
    "\n",
    "<!-- <figure>\n",
    "  <img src=\"f1.png\" width=\"600\">\n",
    "    <figcaption><i>Figure 1. Multiclass logistic regression forward path.</i></figcaption>\n",
    "</figure>\n",
    " -->\n",
    "Figure 2 shows another view of the multiclass logistic regression forward path when we only look at one observation at a time:\n",
    "- First, we calculate the product of $X_i$ and W, here we let $Z_i = -X_iW$. \n",
    "- Second, we take the softmax for this row $Z_{i}$: $P_{i} = $softmax$(Z_{i}) = \\frac{exp(Z_{i})}{\\sum_{k=0}^{C} exp(Z_{ik})}$.\n",
    "- Third, we take the argmax for this row $P_{i}$ and find the index with the highest probability as $Y_i$.\n",
    "\n",
    "\n",
    "![](f2.png)\n",
    "*Figure 2. Operation on one row.*\n",
    "<!-- <figure>\n",
    "  <img src=\"f2.png\" width=\"600\">\n",
    "    <figcaption><i>Figure 2. Operation on one row.</i></figcaption>\n",
    "</figure>\n",
    " -->\n",
    "### Likelihood\n",
    "\n",
    "Recall that in the problem statement that we said we are given $Y$. So for a given observation, we know the class of this observation, which is $Y_i$. The likelihood function of $Y_i$ given $X_i$ and $W$ is the probability of observation i and class $k=Y_i$, which is the softmax of $Z_{i, k=Y_i}$. And the likelihood function of $Y$ given $X$ and $W$ is the product of all the observations. Figure 3 helps us understand this process from $Y_i$ trace backward to $W_{k=Y_i}$\n",
    "\n",
    "\n",
    "\n",
    "\n",
    "- $p(Y_i|X_i, W) = P_{i, k=Y_i} = $ softmax$(Z_{i, k=Y_i}) = \\frac{exp(Z_{i,k=Y_i})}{\\sum_{k=0}^{C} exp(Z_{ik})} = \\frac{\\exp(-X_{i}W_{k=Y_i})}{\\sum_{k=0}^{C} \\exp(-X_{i}W_{k})}$\n",
    "- $p(Y|X, W) = \\prod_{i=1}^{N}\\frac{\\exp(-X_{i}W_{k=Y_i})}{\\sum_{k=0}^{C} \\exp(-X_{i}W_{k})} $\n",
    "\n",
    "\n",
    "![](f3.png)\n",
    "*Figure 3. Calculate likihood.*\n",
    "<!-- <figure>\n",
    "  <img src=\"f3.png\" width=\"600\">\n",
    "    <figcaption><i>Figure 3. Calculate likihood.</i></figcaption>\n",
    "</figure>\n",
    " -->\n",
    "\n",
    "### Loss function / negative log-likelihood:\n",
    "\n",
    "Next, we calculate the loss function. We use the negative log-likelihood function and normalized it by the sample size. One thing to note here is that $W_{k=Y_i} = WY^T_{i(onehot\\_encoded)}$ and $\\sum_{i=1}^{N}X_iW_{k=Y_i} = Tr(XWY^T_{onehot\\_encoded})$. $Tr$ means the sum of elements on the main diagonal.\n",
    "\n",
    "\n",
    "![](f5.png)\n",
    "*Figure 4. Matrix calculations.*\n",
    "<!-- <figure>\n",
    "  <img src=\"f5.png\" width=\"800\">\n",
    "    <figcaption><i>Figure 4. Matrix calculations.</i></figcaption>\n",
    "</figure>\n",
    "\n",
    " -->\n",
    "\n",
    "$l(W) $\n",
    "\n",
    "$= -\\frac{1}{N}\\log p(Y|X, W) $\n",
    "\n",
    "$= \\frac{1}{N}(\\sum_{i=1}^{N}(X_iW_{k=Y_i} + \\log {\\sum_{k=0}^{C} \\exp(-X_{i}W_{k})})) $\n",
    "\n",
    "$= \\frac{1}{N}(\\sum_{i=1}^{N}(X_iW_{k=Y_i} + \\sum_{i=1}^{N}\\log {\\sum_{k=0}^{C} \\exp(-X_{i}W_{k})}) $\n",
    "\n",
    "To write loss in matrix form: \n",
    "\n",
    "$l(W) $\n",
    "\n",
    "$= \\frac{1}{N}(\\sum_{i=1}^{N}(X_iWY^T_{i(onehot\\_encoded)}) + \\sum_{i=1}^{N}\\log {\\sum_{k=0}^{C} \\exp(-X_{i}W_{k})}) $\n",
    "\n",
    "$= \\frac{1}{N}(Tr(XWY^T_{onehot\\_encoded}) + \\sum_{i=1}^{N}\\log {\\sum_{k=0}^{C} \\exp(-X_{i}W_{k})}) $\n",
    "\n",
    "\n",
    "$= \\frac{1}{N}(Tr(XWY^T_{onehot\\_encoded}) + \\sum_{i=1}^{N}\\log {\\sum_{k=0}^{C} \\exp((-XW)_{ik})} $\n",
    "\n",
    "\n",
    "We often add an $l^2$ regularization term to the loss function and try to minimize the combined function. In fact, the default of scikit-learn uses $l^2$ penalities. $l^1$ regularization is also very commonly used. Here we use the $l^2$  regularization.\n",
    "\n",
    "\n",
    "\n",
    "$f(W) $\n",
    "\n",
    "$=$ loss + regularization \n",
    "\n",
    "$= \\frac{1}{N}\\sum_{i=1}^{N}(X_iW_{k=Y_i} + \\log {\\sum_{k=0}^{C} \\exp(-X_{i}W_{k})}) + \\mu ||W||^2 $\n",
    "\n",
    "\n",
    "\n",
    "### Gradient:\n",
    "\n",
    "The gradient calculation is as follows. One thing to note that the gradient of $W_{k=Y_i}$ with respect to $W_k$ is the identity matrix $I_{[Y_i=k]}$.\n",
    "\n",
    "$\\nabla_{W_{k}} f(W) $\n",
    "\n",
    "$= \\frac{1}{N}\\sum_{i=1}^{N}(X_i^TI_{[Y_i=k]} - X_i^T\\frac{\\exp(-X_iW_k)}{\\sum_{k=0}^{C}\\exp(-X_iW_k)}) + 2\\mu W $\n",
    "\n",
    "$= \\frac{1}{N}\\sum_{i=1}^{N}(X_i^TI_{[Y_i=k]} - X_i^TP_i) + 2\\mu W $\n",
    "\n",
    "$= \\frac{1}{N}(\\sum_{i=1}^{N}X_i^TI_{[Y_i=k]} - \\sum_{i=1}^{N}X_i^TP_i) + 2\\mu W $\n",
    "\n",
    "$= \\frac{1}{N}(X^TY_{onehot\\_encoded} - X^TP) + 2\\mu W $\n",
    "\n",
    "$= \\frac{1}{N}(X^T(Y_{onehot\\_encoded} - P)) + 2\\mu W $\n",
    "\n",
    "### Gradient Descent Implementation\n",
    "\n",
    "Now we have calculated the loss function and the gradient function. We can implement the loss and gradient functions in Python, and implement a very basic gradient descent algorithm."
   ]
  },
  {
   "cell_type": "code",
   "execution_count": 2,
   "id": "b035ecfd",
   "metadata": {},
   "outputs": [],
   "source": [
    "import numpy as np\n",
    "import pandas as pd\n",
    "from sklearn.preprocessing import OneHotEncoder\n",
    "from scipy.special import softmax\n",
    "onehot_encoder = OneHotEncoder(sparse=False)\n",
    "from sklearn.datasets import load_iris\n",
    "\n",
    "def loss(X, Y, W):\n",
    "    \"\"\"\n",
    "    Y: onehot encoded\n",
    "    \"\"\"\n",
    "    Z = - X @ W\n",
    "    N = X.shape[0]\n",
    "    loss = 1/N * (np.trace(X @ W @ Y.T) + np.sum(np.log(np.sum(np.exp(Z), axis=1))))\n",
    "    return loss\n",
    "\n",
    "def gradient(X, Y, W, mu):\n",
    "    \"\"\"\n",
    "    Y: onehot encoded \n",
    "    \"\"\"\n",
    "    Z = - X @ W\n",
    "    P = softmax(Z, axis=1)\n",
    "    N = X.shape[0]\n",
    "    gd = 1/N * (X.T @ (Y - P)) + 2 * mu * W\n",
    "    return gd\n",
    "\n",
    "def gradient_descent(X, Y, max_iter=1000, eta=0.1, mu=0.01):\n",
    "    \"\"\"\n",
    "    Very basic gradient descent algorithm with fixed eta and mu\n",
    "    \"\"\"\n",
    "    Y_onehot = onehot_encoder.fit_transform(Y.reshape(-1,1))\n",
    "    W = np.zeros((X.shape[1], Y_onehot.shape[1]))\n",
    "    step = 0\n",
    "    step_lst = [] \n",
    "    loss_lst = []\n",
    "    W_lst = []\n",
    " \n",
    "    while step < max_iter:\n",
    "        step += 1\n",
    "        W -= eta * gradient(X, Y_onehot, W, mu)\n",
    "        step_lst.append(step)\n",
    "        W_lst.append(W)\n",
    "        loss_lst.append(loss(X, Y_onehot, W))\n",
    "\n",
    "    df = pd.DataFrame({\n",
    "        'step': step_lst, \n",
    "        'loss': loss_lst\n",
    "    })\n",
    "    return df, W"
   ]
  },
  {
   "cell_type": "code",
   "execution_count": 6,
   "id": "ba557da6",
   "metadata": {},
   "outputs": [],
   "source": [
    "class Multiclass:\n",
    "    def fit(self, X, Y):\n",
    "        self.loss_steps, self.W = gradient_descent(X, Y)\n",
    "\n",
    "    def loss_plot(self):\n",
    "        return self.loss_steps.plot(\n",
    "            x='step', \n",
    "            y='loss',\n",
    "            xlabel='step',\n",
    "            ylabel='loss'\n",
    "        )\n",
    "\n",
    "    def predict(self, H):\n",
    "        Z = - H @ self.W\n",
    "        P = softmax(Z, axis=1)\n",
    "        return np.argmax(P, axis=1)"
   ]
  },
  {
   "cell_type": "markdown",
   "id": "38439c4b",
   "metadata": {},
   "source": [
    "Next, we try our model on the iris dataset. We fit the model and then plot the loss against the steps, we see that our loss function goes down over time. When we look at the prediction of our data, we see that the algorithm predicts most of the classes correctly. "
   ]
  },
  {
   "cell_type": "code",
   "execution_count": 8,
   "id": "7d6c748d",
   "metadata": {},
   "outputs": [],
   "source": [
    "X = load_iris().data\n",
    "Y = load_iris().target"
   ]
  },
  {
   "cell_type": "code",
   "execution_count": 9,
   "id": "e23810a1",
   "metadata": {},
   "outputs": [],
   "source": [
    "model = Multiclass()\n",
    "model.fit(X, Y)"
   ]
  },
  {
   "cell_type": "code",
   "execution_count": 200,
   "id": "2efc7f6f",
   "metadata": {},
   "outputs": [
    {
     "data": {
      "text/plain": [
       "<AxesSubplot:xlabel='step', ylabel='loss'>"
      ]
     },
     "execution_count": 200,
     "metadata": {},
     "output_type": "execute_result"
    },
    {
     "data": {
      "image/png": "[encoded data removed]",
      "text/plain": [
       "<Figure size 432x288 with 1 Axes>"
      ]
     },
     "metadata": {
      "needs_background": "light"
     },
     "output_type": "display_data"
    }
   ],
   "source": [
    "model.loss_plot()"
   ]
  },
  {
   "cell_type": "code",
   "execution_count": 201,
   "id": "57727af8",
   "metadata": {},
   "outputs": [
    {
     "data": {
      "text/plain": [
       "array([0, 0, 0, 0, 0, 0, 0, 0, 0, 0, 0, 0, 0, 0, 0, 0, 0, 0, 0, 0, 0, 0,\n",
       "       0, 0, 0, 0, 0, 0, 0, 0, 0, 0, 0, 0, 0, 0, 0, 0, 0, 0, 0, 0, 0, 0,\n",
       "       0, 0, 0, 0, 0, 0, 1, 1, 1, 1, 1, 1, 1, 1, 1, 1, 1, 1, 1, 1, 1, 1,\n",
       "       1, 1, 1, 1, 2, 1, 2, 1, 1, 1, 1, 1, 1, 1, 1, 1, 1, 2, 2, 1, 1, 1,\n",
       "       1, 1, 1, 1, 1, 1, 1, 1, 1, 1, 1, 1, 2, 2, 2, 2, 2, 2, 2, 2, 2, 2,\n",
       "       2, 2, 2, 2, 2, 2, 2, 2, 2, 2, 2, 2, 2, 2, 2, 2, 2, 2, 2, 2, 2, 2,\n",
       "       2, 2, 2, 2, 2, 2, 2, 2, 2, 2, 2, 2, 2, 2, 2, 2, 2, 2])"
      ]
     },
     "execution_count": 201,
     "metadata": {},
     "output_type": "execute_result"
    }
   ],
   "source": [
    "model.predict(X)"
   ]
  },
  {
   "cell_type": "code",
   "execution_count": 202,
   "id": "0be6ab7c",
   "metadata": {},
   "outputs": [
    {
     "data": {
      "text/plain": [
       "array([ True,  True,  True,  True,  True,  True,  True,  True,  True,\n",
       "        True,  True,  True,  True,  True,  True,  True,  True,  True,\n",
       "        True,  True,  True,  True,  True,  True,  True,  True,  True,\n",
       "        True,  True,  True,  True,  True,  True,  True,  True,  True,\n",
       "        True,  True,  True,  True,  True,  True,  True,  True,  True,\n",
       "        True,  True,  True,  True,  True,  True,  True,  True,  True,\n",
       "        True,  True,  True,  True,  True,  True,  True,  True,  True,\n",
       "        True,  True,  True,  True,  True,  True,  True, False,  True,\n",
       "       False,  True,  True,  True,  True,  True,  True,  True,  True,\n",
       "        True,  True, False, False,  True,  True,  True,  True,  True,\n",
       "        True,  True,  True,  True,  True,  True,  True,  True,  True,\n",
       "        True,  True,  True,  True,  True,  True,  True,  True,  True,\n",
       "        True,  True,  True,  True,  True,  True,  True,  True,  True,\n",
       "        True,  True,  True,  True,  True,  True,  True,  True,  True,\n",
       "        True,  True,  True,  True,  True,  True,  True,  True,  True,\n",
       "        True,  True,  True,  True,  True,  True,  True,  True,  True,\n",
       "        True,  True,  True,  True,  True,  True])"
      ]
     },
     "execution_count": 202,
     "metadata": {},
     "output_type": "execute_result"
    }
   ],
   "source": [
    "model.predict(X) == Y"
   ]
  },
  {
   "cell_type": "markdown",
   "id": "b68eecb2",
   "metadata": {},
   "source": [
    "This is a basic overview of the math and gradient descent of multiclass logistic regression. Hope you find this article helpful.\n",
    "\n",
    "By Sophia Yang on April 18, 2021"
   ]
  }
 ],
 "metadata": {
  "kernelspec": {
   "display_name": "Python 3",
   "language": "python",
   "name": "python3"
  },
  "language_info": {
   "codemirror_mode": {
    "name": "ipython",
    "version": 3
   },
   "file_extension": ".py",
   "mimetype": "text/x-python",
   "name": "python",
   "nbconvert_exporter": "python",
   "pygments_lexer": "ipython3",
   "version": "3.8.5"
  }
 },
 "nbformat": 4,
 "nbformat_minor": 5
}
